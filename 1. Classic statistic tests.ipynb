{
 "cells": [
  {
   "cell_type": "markdown",
   "metadata": {},
   "source": [
    "# Introduction\n",
    "In this notebook, we explore various methods for feature importance, with a focus on explainable artificial intelligence (XAI). The notebook is structured into several sections, beginning with the most straightforward approaches, such as statistical tests (e.g., t-test, Mann-Whitney U test, chi-squared test), and progressively advancing towards more sophisticated techniques. These methods help quantify the influence of features on predictive models, offering valuable insights into model interpretability. The goal is to provide a comprehensive, hands-on guide to feature importance in XAI, combining both foundational and advanced methods.\n",
    "\n",
    ">Authors: \n",
    "> - Karina Shahgeldyan\n",
    "> - Bogdan Potapenko / bvpotapenko@gmail.com /"
   ]
  },
  {
   "cell_type": "markdown",
   "metadata": {},
   "source": [
    "1. Feature Importance  \n",
    "    1. Statistical Tests  \n",
    "        1. t-test  \n",
    "        1. Mann-Whitney U Test  \n",
    "    1. ... Other methods"
   ]
  },
  {
   "cell_type": "markdown",
   "metadata": {},
   "source": [
    "# Feature importance"
   ]
  },
  {
   "cell_type": "markdown",
   "metadata": {},
   "source": [
    "## Statistical Tests"
   ]
  },
  {
   "cell_type": "code",
   "execution_count": 1,
   "metadata": {},
   "outputs": [
    {
     "name": "stdout",
     "output_type": "stream",
     "text": [
      "!\n"
     ]
    }
   ],
   "source": [
    "print(f\"!\")"
   ]
  }
 ],
 "metadata": {
  "kernelspec": {
   "display_name": "eda",
   "language": "python",
   "name": "python3"
  },
  "language_info": {
   "codemirror_mode": {
    "name": "ipython",
    "version": 3
   },
   "file_extension": ".py",
   "mimetype": "text/x-python",
   "name": "python",
   "nbconvert_exporter": "python",
   "pygments_lexer": "ipython3",
   "version": "3.11.8"
  }
 },
 "nbformat": 4,
 "nbformat_minor": 2
}
